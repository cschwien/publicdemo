{
 "cells": [
  {
   "cell_type": "markdown",
   "metadata": {},
   "source": [
    "Write a function anagrams(input_string) that takes a string as input and writes all anagrams of that string to a file, one per line. (An anagram is a word with the same number of each letter but in a different order.) You might find it useful to modify your histogram function as a subroutine to identify how many of each letter are in your word (you can use == to compare two dictionaries in Python). Use words.txt as the official arbiter of what qualifies as a word. Upload a screenshot of your code and the output file for the following test case:\n",
    "anagrams('pots') should write 'opts', 'post', 'pots', 'spot', 'stop', and 'tops' to the output file\n",
    "anagrams('resent') should write 'enters', 'rentes', 'ternes', 'nester', 'resent', and 'tenser' to the output file\n"
   ]
  },
  {
   "cell_type": "code",
   "execution_count": null,
   "metadata": {},
   "outputs": [],
   "source": []
  },
  {
   "cell_type": "markdown",
   "metadata": {},
   "source": [
    "Write a function heteropalindromes() that returns all pairs of heteropalindromes in words.txt as a set of tuples without duplication (e.g., if your include ('pins', 'snip') in your list, do not also include ('snip', 'pins')). You may begin by reading the entire words.txt file into a set (this will be more time efficient than using a nested for loop to scan the text file). Consider using this quick string slicing methodLinks to an external site. to reverse the strings. After running the function, print the resulting set and take a screenshot of the initial portion (you likely won't be able to fit the entire thing on your screen)."
   ]
  }
 ],
 "metadata": {
  "language_info": {
   "name": "python"
  }
 },
 "nbformat": 4,
 "nbformat_minor": 2
}
